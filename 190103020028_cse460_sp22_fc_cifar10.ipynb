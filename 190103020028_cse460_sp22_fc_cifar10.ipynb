{
  "nbformat": 4,
  "nbformat_minor": 0,
  "metadata": {
    "colab": {
      "name": "190103020028_cse460_sp22_fc_cifar10.ipynb",
      "provenance": [],
      "collapsed_sections": []
    },
    "kernelspec": {
      "display_name": "Python 3",
      "name": "python3"
    },
    "language_info": {
      "name": "python"
    },
    "accelerator": "GPU"
  },
  "cells": [
    {
      "cell_type": "code",
      "metadata": {
        "id": "8wK9CWcWMXZj"
      },
      "source": [
        "# Tensorflow 2.0\n",
        "# PyTorch"
      ],
      "execution_count": 1,
      "outputs": []
    },
    {
      "cell_type": "markdown",
      "source": [
        "### Instruction\n",
        "1. File->Save a copy in Drive\n",
        "2. Rename: replace reg_no with your registration no.\n",
        "3. Put your name\n",
        "\n",
        "### Task\n",
        "1. Try changing number of neurons\n",
        "2. Try chaning number of hidden layers\n",
        "3. Try changing learning rates\n",
        "4. Try ... any other things to improve accuracy."
      ],
      "metadata": {
        "id": "b19DWWTqoYlL"
      }
    },
    {
      "cell_type": "markdown",
      "source": [
        "### Name: Eftakhar Ahmed Arnob\n",
        "### Maximum testing accuracy achieved: 0.5228"
      ],
      "metadata": {
        "id": "fvHEZoyEokr9"
      }
    },
    {
      "cell_type": "markdown",
      "metadata": {
        "id": "w9hcCJtBT8Hy"
      },
      "source": [
        "### FC on CIFAR 10 Dataset"
      ]
    },
    {
      "cell_type": "code",
      "metadata": {
        "id": "TddG70M9MYIe"
      },
      "source": [
        "import tensorflow as tf\n",
        "from tensorflow.keras.layers import Flatten, Dense\n",
        "from tensorflow.keras.datasets import cifar10\n",
        "import numpy as np\n",
        "import matplotlib.pyplot as plt"
      ],
      "execution_count": 2,
      "outputs": []
    },
    {
      "cell_type": "code",
      "metadata": {
        "id": "EXa_zxtWMYLa",
        "colab": {
          "base_uri": "https://localhost:8080/"
        },
        "outputId": "84adf9d1-ce5a-466a-f8ea-eab851a12477"
      },
      "source": [
        "\n",
        "# setting class names\n",
        "class_names=['airplane','automobile','bird','cat','deer','dog','frog','horse','ship','truck']\n",
        "(x_train,y_train),(x_test,y_test)=cifar10.load_data()"
      ],
      "execution_count": 3,
      "outputs": [
        {
          "output_type": "stream",
          "name": "stdout",
          "text": [
            "Downloading data from https://www.cs.toronto.edu/~kriz/cifar-10-python.tar.gz\n",
            "170500096/170498071 [==============================] - 2s 0us/step\n",
            "170508288/170498071 [==============================] - 2s 0us/step\n"
          ]
        }
      ]
    },
    {
      "cell_type": "code",
      "source": [
        "x_train.shape"
      ],
      "metadata": {
        "colab": {
          "base_uri": "https://localhost:8080/"
        },
        "id": "Bsn8kv8SkbL7",
        "outputId": "f382b42d-33fd-4433-d858-c1f7db62827d"
      },
      "execution_count": 4,
      "outputs": [
        {
          "output_type": "execute_result",
          "data": {
            "text/plain": [
              "(50000, 32, 32, 3)"
            ]
          },
          "metadata": {},
          "execution_count": 4
        }
      ]
    },
    {
      "cell_type": "code",
      "source": [
        "y_train.shape"
      ],
      "metadata": {
        "colab": {
          "base_uri": "https://localhost:8080/"
        },
        "id": "OhqVq-BykbPt",
        "outputId": "993d38d9-964c-4df1-e24a-17a2e3aa0dd1"
      },
      "execution_count": 5,
      "outputs": [
        {
          "output_type": "execute_result",
          "data": {
            "text/plain": [
              "(50000, 1)"
            ]
          },
          "metadata": {},
          "execution_count": 5
        }
      ]
    },
    {
      "cell_type": "code",
      "source": [
        "y_train[:5]"
      ],
      "metadata": {
        "colab": {
          "base_uri": "https://localhost:8080/"
        },
        "id": "qZUEi8z1kbSp",
        "outputId": "8a87111f-56f8-4d83-b90f-16b53fa35dca"
      },
      "execution_count": 6,
      "outputs": [
        {
          "output_type": "execute_result",
          "data": {
            "text/plain": [
              "array([[6],\n",
              "       [9],\n",
              "       [9],\n",
              "       [4],\n",
              "       [1]], dtype=uint8)"
            ]
          },
          "metadata": {},
          "execution_count": 6
        }
      ]
    },
    {
      "cell_type": "code",
      "source": [
        "x_test.shape"
      ],
      "metadata": {
        "colab": {
          "base_uri": "https://localhost:8080/"
        },
        "id": "J0UPDlkuksN7",
        "outputId": "f4d34a9a-783a-491b-dc62-47e785321953"
      },
      "execution_count": 7,
      "outputs": [
        {
          "output_type": "execute_result",
          "data": {
            "text/plain": [
              "(10000, 32, 32, 3)"
            ]
          },
          "metadata": {},
          "execution_count": 7
        }
      ]
    },
    {
      "cell_type": "code",
      "source": [
        "y_test.shape"
      ],
      "metadata": {
        "colab": {
          "base_uri": "https://localhost:8080/"
        },
        "id": "JNOcTZpoksRt",
        "outputId": "d3e7dc56-6e1c-4371-c657-12a596917c71"
      },
      "execution_count": 8,
      "outputs": [
        {
          "output_type": "execute_result",
          "data": {
            "text/plain": [
              "(10000, 1)"
            ]
          },
          "metadata": {},
          "execution_count": 8
        }
      ]
    },
    {
      "cell_type": "code",
      "source": [
        "# x_train[0]"
      ],
      "metadata": {
        "id": "fexC6yeKlJlZ"
      },
      "execution_count": null,
      "outputs": []
    },
    {
      "cell_type": "code",
      "source": [
        ""
      ],
      "metadata": {
        "id": "XJO9e1cflJoN"
      },
      "execution_count": null,
      "outputs": []
    },
    {
      "cell_type": "code",
      "source": [
        ""
      ],
      "metadata": {
        "id": "xxAmNv6ulJqt"
      },
      "execution_count": null,
      "outputs": []
    },
    {
      "cell_type": "code",
      "source": [
        ""
      ],
      "metadata": {
        "id": "w8NwwqKhlJta"
      },
      "execution_count": null,
      "outputs": []
    },
    {
      "cell_type": "markdown",
      "metadata": {
        "id": "GmwHLc03ot3J"
      },
      "source": [
        "### subtract mean"
      ]
    },
    {
      "cell_type": "code",
      "metadata": {
        "id": "ntTLRoTYoxbP"
      },
      "source": [
        "#todo"
      ],
      "execution_count": null,
      "outputs": []
    },
    {
      "cell_type": "code",
      "metadata": {
        "colab": {
          "base_uri": "https://localhost:8080/"
        },
        "id": "xuwRYbS5MhqQ",
        "outputId": "06d2e8b2-56fe-4c4e-9f04-2f85e34b8a3c"
      },
      "source": [
        "x_train=x_train/255.0\n",
        "x_train.shape"
      ],
      "execution_count": 9,
      "outputs": [
        {
          "output_type": "execute_result",
          "data": {
            "text/plain": [
              "(50000, 32, 32, 3)"
            ]
          },
          "metadata": {},
          "execution_count": 9
        }
      ]
    },
    {
      "cell_type": "code",
      "metadata": {
        "colab": {
          "base_uri": "https://localhost:8080/"
        },
        "id": "esQRbaNXMhtK",
        "outputId": "acfdf215-adf0-4f80-f625-b5ec60eb7020"
      },
      "source": [
        "\n",
        "x_test=x_test/255.0\n",
        "x_test.shape"
      ],
      "execution_count": 10,
      "outputs": [
        {
          "output_type": "execute_result",
          "data": {
            "text/plain": [
              "(10000, 32, 32, 3)"
            ]
          },
          "metadata": {},
          "execution_count": 10
        }
      ]
    },
    {
      "cell_type": "code",
      "source": [
        "# x_train[0]"
      ],
      "metadata": {
        "id": "Yh-80QpSlRcN"
      },
      "execution_count": null,
      "outputs": []
    },
    {
      "cell_type": "code",
      "source": [
        ""
      ],
      "metadata": {
        "id": "pMF2_J0rlRfF"
      },
      "execution_count": null,
      "outputs": []
    },
    {
      "cell_type": "code",
      "source": [
        "ri=np.random.randint(x_train.shape[0])\n",
        "print('ri=', ri)"
      ],
      "metadata": {
        "colab": {
          "base_uri": "https://localhost:8080/"
        },
        "id": "vGddZGshlRiJ",
        "outputId": "7ffa0f10-7b24-4690-9825-143c4740e0c0"
      },
      "execution_count": 11,
      "outputs": [
        {
          "output_type": "stream",
          "name": "stdout",
          "text": [
            "ri= 11082\n"
          ]
        }
      ]
    },
    {
      "cell_type": "code",
      "source": [
        "ri=5\n",
        "x=x_train[ri]"
      ],
      "metadata": {
        "id": "_g0zep2sldWn"
      },
      "execution_count": 12,
      "outputs": []
    },
    {
      "cell_type": "code",
      "source": [
        "y_train[ri]"
      ],
      "metadata": {
        "colab": {
          "base_uri": "https://localhost:8080/"
        },
        "id": "zx9-7hD5ldZt",
        "outputId": "22a190a3-f96d-4508-9205-fa4798988c0a"
      },
      "execution_count": 13,
      "outputs": [
        {
          "output_type": "execute_result",
          "data": {
            "text/plain": [
              "array([1], dtype=uint8)"
            ]
          },
          "metadata": {},
          "execution_count": 13
        }
      ]
    },
    {
      "cell_type": "code",
      "metadata": {
        "colab": {
          "base_uri": "https://localhost:8080/",
          "height": 284
        },
        "id": "gxkjZPa1MhwV",
        "outputId": "c6888a38-d697-4ea8-b761-a43ef27c426c"
      },
      "source": [
        "\n",
        "plt.imshow(x)"
      ],
      "execution_count": 14,
      "outputs": [
        {
          "output_type": "execute_result",
          "data": {
            "text/plain": [
              "<matplotlib.image.AxesImage at 0x7fcc976c1e90>"
            ]
          },
          "metadata": {},
          "execution_count": 14
        },
        {
          "output_type": "display_data",
          "data": {
            "image/png": "[encoded data removed]",
            "text/plain": [
              "<Figure size 432x288 with 1 Axes>"
            ]
          },
          "metadata": {
            "needs_background": "light"
          }
        }
      ]
    },
    {
      "cell_type": "code",
      "source": [
        ""
      ],
      "metadata": {
        "id": "hqRk_UQalcpg"
      },
      "execution_count": null,
      "outputs": []
    },
    {
      "cell_type": "code",
      "source": [
        ""
      ],
      "metadata": {
        "id": "JDAUw1Kflcsm"
      },
      "execution_count": null,
      "outputs": []
    },
    {
      "cell_type": "code",
      "source": [
        ""
      ],
      "metadata": {
        "id": "L4PsGLhPlcAv"
      },
      "execution_count": null,
      "outputs": []
    },
    {
      "cell_type": "code",
      "source": [
        "32*32*3"
      ],
      "metadata": {
        "colab": {
          "base_uri": "https://localhost:8080/"
        },
        "id": "ArCcWedClcFh",
        "outputId": "ee44a986-5eb4-426b-f399-1755a642502b"
      },
      "execution_count": 15,
      "outputs": [
        {
          "output_type": "execute_result",
          "data": {
            "text/plain": [
              "3072"
            ]
          },
          "metadata": {},
          "execution_count": 15
        }
      ]
    },
    {
      "cell_type": "code",
      "source": [
        "3072*200+200"
      ],
      "metadata": {
        "colab": {
          "base_uri": "https://localhost:8080/"
        },
        "id": "u6BE6ll6mcZU",
        "outputId": "4c71d3a3-ec0c-49bb-b305-35d3569694bc"
      },
      "execution_count": 16,
      "outputs": [
        {
          "output_type": "execute_result",
          "data": {
            "text/plain": [
              "614600"
            ]
          },
          "metadata": {},
          "execution_count": 16
        }
      ]
    },
    {
      "cell_type": "code",
      "metadata": {
        "colab": {
          "base_uri": "https://localhost:8080/"
        },
        "id": "PZeEr9BzMpXF",
        "outputId": "090f9eb6-450e-4b45-87a3-2a7bb5866ffe"
      },
      "source": [
        "model = tf.keras.Sequential()\n",
        "model.add( Flatten(input_shape=(32, 32, 3) ) )\n",
        "model.add( Dense(500, activation='relu' ) ) \n",
        "model.add( Dense(200, activation='relu' ) ) \n",
        "model.add( Dense(150, activation='relu' ) ) \n",
        "model.add(Dense(10, activation='softmax'))\n",
        "model.summary()"
      ],
      "execution_count": 42,
      "outputs": [
        {
          "output_type": "stream",
          "name": "stdout",
          "text": [
            "Model: \"sequential_4\"\n",
            "_________________________________________________________________\n",
            " Layer (type)                Output Shape              Param #   \n",
            "=================================================================\n",
            " flatten_4 (Flatten)         (None, 3072)              0         \n",
            "                                                                 \n",
            " dense_16 (Dense)            (None, 500)               1536500   \n",
            "                                                                 \n",
            " dense_17 (Dense)            (None, 200)               100200    \n",
            "                                                                 \n",
            " dense_18 (Dense)            (None, 150)               30150     \n",
            "                                                                 \n",
            " dense_19 (Dense)            (None, 10)                1510      \n",
            "                                                                 \n",
            "=================================================================\n",
            "Total params: 1,668,360\n",
            "Trainable params: 1,668,360\n",
            "Non-trainable params: 0\n",
            "_________________________________________________________________\n"
          ]
        }
      ]
    },
    {
      "cell_type": "code",
      "source": [
        ""
      ],
      "metadata": {
        "id": "3ZRmJAppmB4O"
      },
      "execution_count": null,
      "outputs": []
    },
    {
      "cell_type": "code",
      "source": [
        ""
      ],
      "metadata": {
        "id": "6H6WKvWkmCDh"
      },
      "execution_count": null,
      "outputs": []
    },
    {
      "cell_type": "code",
      "source": [
        ""
      ],
      "metadata": {
        "id": "dHGDzbw7mCIT"
      },
      "execution_count": null,
      "outputs": []
    },
    {
      "cell_type": "code",
      "metadata": {
        "id": "GOvi3tFmu2e2"
      },
      "source": [
        "#search google to set learning rate."
      ],
      "execution_count": null,
      "outputs": []
    },
    {
      "cell_type": "code",
      "metadata": {
        "id": "tSclSSMLMpZ6",
        "colab": {
          "base_uri": "https://localhost:8080/"
        },
        "outputId": "f43da2bb-4579-4c81-9834-a9c8fc7b7764"
      },
      "source": [
        "model.compile(loss=\"sparse_categorical_crossentropy\",  optimizer=\"Adam\", metrics=['accuracy'])\n",
        "model.optimizer.lr.assign(0.0001)"
      ],
      "execution_count": 44,
      "outputs": [
        {
          "output_type": "execute_result",
          "data": {
            "text/plain": [
              "<tf.Variable 'UnreadVariable' shape=() dtype=float32, numpy=1e-04>"
            ]
          },
          "metadata": {},
          "execution_count": 44
        }
      ]
    },
    {
      "cell_type": "code",
      "metadata": {
        "id": "in3xYNdHMhzG",
        "colab": {
          "base_uri": "https://localhost:8080/"
        },
        "outputId": "fa66e761-40f1-40c7-9cd1-7f867bf0f103"
      },
      "source": [
        "# hist=model.fit(x_train, y_train, epochs=50)\n",
        "hist = model.fit(x_train, y_train, validation_split= 0.20, epochs=60)"
      ],
      "execution_count": 45,
      "outputs": [
        {
          "output_type": "stream",
          "name": "stdout",
          "text": [
            "Epoch 1/60\n",
            "1250/1250 [==============================] - 7s 5ms/step - loss: 1.8631 - accuracy: 0.3301 - val_loss: 1.7860 - val_accuracy: 0.3622\n",
            "Epoch 2/60\n",
            "1250/1250 [==============================] - 6s 5ms/step - loss: 1.6777 - accuracy: 0.4015 - val_loss: 1.6688 - val_accuracy: 0.4174\n",
            "Epoch 3/60\n",
            "1250/1250 [==============================] - 6s 5ms/step - loss: 1.5913 - accuracy: 0.4360 - val_loss: 1.6027 - val_accuracy: 0.4315\n",
            "Epoch 4/60\n",
            "1250/1250 [==============================] - 7s 5ms/step - loss: 1.5320 - accuracy: 0.4570 - val_loss: 1.5624 - val_accuracy: 0.4485\n",
            "Epoch 5/60\n",
            "1250/1250 [==============================] - 7s 5ms/step - loss: 1.4900 - accuracy: 0.4711 - val_loss: 1.5262 - val_accuracy: 0.4564\n",
            "Epoch 6/60\n",
            "1250/1250 [==============================] - 7s 5ms/step - loss: 1.4481 - accuracy: 0.4867 - val_loss: 1.5016 - val_accuracy: 0.4654\n",
            "Epoch 7/60\n",
            "1250/1250 [==============================] - 7s 5ms/step - loss: 1.4127 - accuracy: 0.4976 - val_loss: 1.4799 - val_accuracy: 0.4755\n",
            "Epoch 8/60\n",
            "1250/1250 [==============================] - 6s 5ms/step - loss: 1.3817 - accuracy: 0.5103 - val_loss: 1.4815 - val_accuracy: 0.4792\n",
            "Epoch 9/60\n",
            "1250/1250 [==============================] - 6s 5ms/step - loss: 1.3518 - accuracy: 0.5218 - val_loss: 1.4640 - val_accuracy: 0.4760\n",
            "Epoch 10/60\n",
            "1250/1250 [==============================] - 7s 5ms/step - loss: 1.3230 - accuracy: 0.5282 - val_loss: 1.4543 - val_accuracy: 0.4877\n",
            "Epoch 11/60\n",
            "1250/1250 [==============================] - 7s 5ms/step - loss: 1.2966 - accuracy: 0.5387 - val_loss: 1.4214 - val_accuracy: 0.5023\n",
            "Epoch 12/60\n",
            "1250/1250 [==============================] - 6s 5ms/step - loss: 1.2688 - accuracy: 0.5512 - val_loss: 1.4362 - val_accuracy: 0.4978\n",
            "Epoch 13/60\n",
            "1250/1250 [==============================] - 6s 5ms/step - loss: 1.2436 - accuracy: 0.5601 - val_loss: 1.4237 - val_accuracy: 0.4993\n",
            "Epoch 14/60\n",
            "1250/1250 [==============================] - 6s 5ms/step - loss: 1.2187 - accuracy: 0.5688 - val_loss: 1.4290 - val_accuracy: 0.4988\n",
            "Epoch 15/60\n",
            "1250/1250 [==============================] - 7s 5ms/step - loss: 1.1935 - accuracy: 0.5768 - val_loss: 1.3991 - val_accuracy: 0.5102\n",
            "Epoch 16/60\n",
            "1250/1250 [==============================] - 6s 5ms/step - loss: 1.1671 - accuracy: 0.5886 - val_loss: 1.4601 - val_accuracy: 0.4993\n",
            "Epoch 17/60\n",
            "1250/1250 [==============================] - 6s 5ms/step - loss: 1.1474 - accuracy: 0.5935 - val_loss: 1.3825 - val_accuracy: 0.5211\n",
            "Epoch 18/60\n",
            "1250/1250 [==============================] - 6s 5ms/step - loss: 1.1198 - accuracy: 0.6034 - val_loss: 1.3739 - val_accuracy: 0.5252\n",
            "Epoch 19/60\n",
            "1250/1250 [==============================] - 7s 5ms/step - loss: 1.0987 - accuracy: 0.6109 - val_loss: 1.4000 - val_accuracy: 0.5229\n",
            "Epoch 20/60\n",
            "1250/1250 [==============================] - 6s 5ms/step - loss: 1.0755 - accuracy: 0.6206 - val_loss: 1.3848 - val_accuracy: 0.5280\n",
            "Epoch 21/60\n",
            "1250/1250 [==============================] - 7s 5ms/step - loss: 1.0544 - accuracy: 0.6299 - val_loss: 1.4055 - val_accuracy: 0.5170\n",
            "Epoch 22/60\n",
            "1250/1250 [==============================] - 6s 5ms/step - loss: 1.0293 - accuracy: 0.6380 - val_loss: 1.3956 - val_accuracy: 0.5264\n",
            "Epoch 23/60\n",
            "1250/1250 [==============================] - 6s 5ms/step - loss: 1.0098 - accuracy: 0.6445 - val_loss: 1.4216 - val_accuracy: 0.5158\n",
            "Epoch 24/60\n",
            "1250/1250 [==============================] - 6s 5ms/step - loss: 0.9859 - accuracy: 0.6543 - val_loss: 1.4240 - val_accuracy: 0.5187\n",
            "Epoch 25/60\n",
            "1250/1250 [==============================] - 6s 5ms/step - loss: 0.9588 - accuracy: 0.6626 - val_loss: 1.4150 - val_accuracy: 0.5299\n",
            "Epoch 26/60\n",
            "1250/1250 [==============================] - 6s 5ms/step - loss: 0.9399 - accuracy: 0.6712 - val_loss: 1.4087 - val_accuracy: 0.5321\n",
            "Epoch 27/60\n",
            "1250/1250 [==============================] - 6s 5ms/step - loss: 0.9206 - accuracy: 0.6775 - val_loss: 1.4460 - val_accuracy: 0.5261\n",
            "Epoch 28/60\n",
            "1250/1250 [==============================] - 6s 5ms/step - loss: 0.9007 - accuracy: 0.6840 - val_loss: 1.4073 - val_accuracy: 0.5339\n",
            "Epoch 29/60\n",
            "1250/1250 [==============================] - 6s 5ms/step - loss: 0.8827 - accuracy: 0.6915 - val_loss: 1.4624 - val_accuracy: 0.5254\n",
            "Epoch 30/60\n",
            "1250/1250 [==============================] - 6s 5ms/step - loss: 0.8599 - accuracy: 0.7006 - val_loss: 1.5300 - val_accuracy: 0.5209\n",
            "Epoch 31/60\n",
            "1250/1250 [==============================] - 6s 5ms/step - loss: 0.8392 - accuracy: 0.7068 - val_loss: 1.4301 - val_accuracy: 0.5418\n",
            "Epoch 32/60\n",
            "1250/1250 [==============================] - 6s 5ms/step - loss: 0.8187 - accuracy: 0.7140 - val_loss: 1.4548 - val_accuracy: 0.5353\n",
            "Epoch 33/60\n",
            "1250/1250 [==============================] - 7s 5ms/step - loss: 0.7992 - accuracy: 0.7209 - val_loss: 1.4899 - val_accuracy: 0.5285\n",
            "Epoch 34/60\n",
            "1250/1250 [==============================] - 6s 5ms/step - loss: 0.7813 - accuracy: 0.7275 - val_loss: 1.5350 - val_accuracy: 0.5224\n",
            "Epoch 35/60\n",
            "1250/1250 [==============================] - 7s 5ms/step - loss: 0.7609 - accuracy: 0.7370 - val_loss: 1.5273 - val_accuracy: 0.5277\n",
            "Epoch 36/60\n",
            "1250/1250 [==============================] - 7s 5ms/step - loss: 0.7399 - accuracy: 0.7430 - val_loss: 1.5322 - val_accuracy: 0.5255\n",
            "Epoch 37/60\n",
            "1250/1250 [==============================] - 7s 5ms/step - loss: 0.7259 - accuracy: 0.7478 - val_loss: 1.5363 - val_accuracy: 0.5346\n",
            "Epoch 38/60\n",
            "1250/1250 [==============================] - 7s 5ms/step - loss: 0.7033 - accuracy: 0.7549 - val_loss: 1.5321 - val_accuracy: 0.5371\n",
            "Epoch 39/60\n",
            "1250/1250 [==============================] - 6s 5ms/step - loss: 0.6869 - accuracy: 0.7614 - val_loss: 1.5641 - val_accuracy: 0.5258\n",
            "Epoch 40/60\n",
            "1250/1250 [==============================] - 6s 5ms/step - loss: 0.6688 - accuracy: 0.7664 - val_loss: 1.6283 - val_accuracy: 0.5165\n",
            "Epoch 41/60\n",
            "1250/1250 [==============================] - 7s 5ms/step - loss: 0.6537 - accuracy: 0.7757 - val_loss: 1.5946 - val_accuracy: 0.5335\n",
            "Epoch 42/60\n",
            "1250/1250 [==============================] - 6s 5ms/step - loss: 0.6336 - accuracy: 0.7807 - val_loss: 1.6394 - val_accuracy: 0.5320\n",
            "Epoch 43/60\n",
            "1250/1250 [==============================] - 7s 5ms/step - loss: 0.6194 - accuracy: 0.7845 - val_loss: 1.6556 - val_accuracy: 0.5293\n",
            "Epoch 44/60\n",
            "1250/1250 [==============================] - 7s 5ms/step - loss: 0.6005 - accuracy: 0.7922 - val_loss: 1.6501 - val_accuracy: 0.5329\n",
            "Epoch 45/60\n",
            "1250/1250 [==============================] - 7s 5ms/step - loss: 0.5816 - accuracy: 0.7985 - val_loss: 1.6965 - val_accuracy: 0.5279\n",
            "Epoch 46/60\n",
            "1250/1250 [==============================] - 7s 5ms/step - loss: 0.5697 - accuracy: 0.8045 - val_loss: 1.7148 - val_accuracy: 0.5250\n",
            "Epoch 47/60\n",
            "1250/1250 [==============================] - 7s 5ms/step - loss: 0.5539 - accuracy: 0.8094 - val_loss: 1.7467 - val_accuracy: 0.5248\n",
            "Epoch 48/60\n",
            "1250/1250 [==============================] - 7s 5ms/step - loss: 0.5387 - accuracy: 0.8146 - val_loss: 1.7375 - val_accuracy: 0.5287\n",
            "Epoch 49/60\n",
            "1250/1250 [==============================] - 6s 5ms/step - loss: 0.5229 - accuracy: 0.8197 - val_loss: 1.7779 - val_accuracy: 0.5287\n",
            "Epoch 50/60\n",
            "1250/1250 [==============================] - 7s 5ms/step - loss: 0.5090 - accuracy: 0.8239 - val_loss: 1.8100 - val_accuracy: 0.5226\n",
            "Epoch 51/60\n",
            "1250/1250 [==============================] - 7s 5ms/step - loss: 0.4938 - accuracy: 0.8303 - val_loss: 1.8143 - val_accuracy: 0.5262\n",
            "Epoch 52/60\n",
            "1250/1250 [==============================] - 7s 5ms/step - loss: 0.4811 - accuracy: 0.8353 - val_loss: 1.8649 - val_accuracy: 0.5236\n",
            "Epoch 53/60\n",
            "1250/1250 [==============================] - 7s 5ms/step - loss: 0.4623 - accuracy: 0.8422 - val_loss: 1.8754 - val_accuracy: 0.5191\n",
            "Epoch 54/60\n",
            "1250/1250 [==============================] - 6s 5ms/step - loss: 0.4529 - accuracy: 0.8438 - val_loss: 1.8910 - val_accuracy: 0.5228\n",
            "Epoch 55/60\n",
            "1250/1250 [==============================] - 6s 5ms/step - loss: 0.4386 - accuracy: 0.8488 - val_loss: 1.9134 - val_accuracy: 0.5286\n",
            "Epoch 56/60\n",
            "1250/1250 [==============================] - 7s 5ms/step - loss: 0.4218 - accuracy: 0.8561 - val_loss: 1.9665 - val_accuracy: 0.5218\n",
            "Epoch 57/60\n",
            "1250/1250 [==============================] - 7s 5ms/step - loss: 0.4064 - accuracy: 0.8615 - val_loss: 1.9711 - val_accuracy: 0.5325\n",
            "Epoch 58/60\n",
            "1250/1250 [==============================] - 6s 5ms/step - loss: 0.4042 - accuracy: 0.8615 - val_loss: 2.0134 - val_accuracy: 0.5196\n",
            "Epoch 59/60\n",
            "1250/1250 [==============================] - 6s 5ms/step - loss: 0.3895 - accuracy: 0.8668 - val_loss: 2.0735 - val_accuracy: 0.5178\n",
            "Epoch 60/60\n",
            "1250/1250 [==============================] - 6s 5ms/step - loss: 0.3776 - accuracy: 0.8715 - val_loss: 2.0893 - val_accuracy: 0.5213\n"
          ]
        }
      ]
    },
    {
      "cell_type": "code",
      "metadata": {
        "colab": {
          "base_uri": "https://localhost:8080/"
        },
        "id": "16vr2295mrR-",
        "outputId": "82a6b4f8-d6c6-4def-f066-58f801a67ee3"
      },
      "source": [
        "print('shape:', x_train.shape, y_train.shape)"
      ],
      "execution_count": 46,
      "outputs": [
        {
          "output_type": "stream",
          "name": "stdout",
          "text": [
            "shape: (50000, 32, 32, 3) (50000, 1)\n"
          ]
        }
      ]
    },
    {
      "cell_type": "code",
      "metadata": {
        "colab": {
          "base_uri": "https://localhost:8080/"
        },
        "id": "Dtf4EQZ2QX63",
        "outputId": "bea9e76b-e1c8-4647-fff8-5fbd088aa466"
      },
      "source": [
        "print(hist.history.keys())"
      ],
      "execution_count": 47,
      "outputs": [
        {
          "output_type": "stream",
          "name": "stdout",
          "text": [
            "dict_keys(['loss', 'accuracy', 'val_loss', 'val_accuracy'])\n"
          ]
        }
      ]
    },
    {
      "cell_type": "code",
      "metadata": {
        "colab": {
          "base_uri": "https://localhost:8080/",
          "height": 295
        },
        "id": "f3MC87AqQG6F",
        "outputId": "7b9017ac-0aaa-47dc-8187-d1435ebfacc6"
      },
      "source": [
        "plt.plot(hist.history['accuracy'])\n",
        "plt.plot(hist.history['val_accuracy'])\n",
        "plt.title(\"Model Accuracy\")\n",
        "plt.ylabel(\"Accuracy\")\n",
        "plt.xlabel(\"Epochs\")\n",
        "plt.legend(['train','validation'],loc='upper left')\n",
        "plt.show()"
      ],
      "execution_count": 48,
      "outputs": [
        {
          "output_type": "display_data",
          "data": {
            "image/png": "[encoded data removed]",
            "text/plain": [
              "<Figure size 432x288 with 1 Axes>"
            ]
          },
          "metadata": {
            "needs_background": "light"
          }
        }
      ]
    },
    {
      "cell_type": "code",
      "metadata": {
        "colab": {
          "base_uri": "https://localhost:8080/",
          "height": 295
        },
        "id": "9kLsjGwqQahS",
        "outputId": "e8092feb-aad5-461d-fcce-581c540cea13"
      },
      "source": [
        "plt.plot(hist.history['loss'])\n",
        "plt.plot(hist.history['val_loss'])\n",
        "plt.title(\"Model loss\")\n",
        "plt.ylabel(\"Loss\")\n",
        "plt.xlabel(\"Epochs\")\n",
        "plt.legend(['train','validation'],loc='upper left')\n",
        "plt.show()"
      ],
      "execution_count": 49,
      "outputs": [
        {
          "output_type": "display_data",
          "data": {
            "image/png": "[encoded data removed]",
            "text/plain": [
              "<Figure size 432x288 with 1 Axes>"
            ]
          },
          "metadata": {
            "needs_background": "light"
          }
        }
      ]
    },
    {
      "cell_type": "code",
      "metadata": {
        "id": "63gOo_JaQaki"
      },
      "source": [
        ""
      ],
      "execution_count": null,
      "outputs": []
    },
    {
      "cell_type": "code",
      "metadata": {
        "colab": {
          "base_uri": "https://localhost:8080/"
        },
        "id": "pIY4HfFgMh16",
        "outputId": "49a6893d-ad07-4c14-b4dc-6c6052f95af3"
      },
      "source": [
        "test_loss, test_accuracy = model.evaluate(x_test, y_test)\n",
        "print(f\"Test accuracy: {test_accuracy}\")"
      ],
      "execution_count": 50,
      "outputs": [
        {
          "output_type": "stream",
          "name": "stdout",
          "text": [
            "313/313 [==============================] - 1s 4ms/step - loss: 2.0478 - accuracy: 0.5228\n",
            "Test accuracy: 0.5228000283241272\n"
          ]
        }
      ]
    },
    {
      "cell_type": "code",
      "metadata": {
        "id": "fZ7D8hjYRfM-"
      },
      "source": [
        ""
      ],
      "execution_count": null,
      "outputs": []
    },
    {
      "cell_type": "code",
      "source": [
        "# xt=x_test[10]\n",
        "xt=x_test[3341]\n",
        "plt.imshow(xt)"
      ],
      "metadata": {
        "colab": {
          "base_uri": "https://localhost:8080/",
          "height": 284
        },
        "id": "jBbuqSKfosHz",
        "outputId": "f0c10634-95c3-4a43-afb4-0f08ae879ac8"
      },
      "execution_count": 51,
      "outputs": [
        {
          "output_type": "execute_result",
          "data": {
            "text/plain": [
              "<matplotlib.image.AxesImage at 0x7fcc19ef12d0>"
            ]
          },
          "metadata": {},
          "execution_count": 51
        },
        {
          "output_type": "display_data",
          "data": {
            "image/png": "[encoded data removed]",
            "text/plain": [
              "<Figure size 432x288 with 1 Axes>"
            ]
          },
          "metadata": {
            "needs_background": "light"
          }
        }
      ]
    },
    {
      "cell_type": "code",
      "source": [
        "p=model.predict(xt.reshape(-1, 32,32,3))\n",
        "print(p)"
      ],
      "metadata": {
        "colab": {
          "base_uri": "https://localhost:8080/"
        },
        "id": "7dM-DsTMosK8",
        "outputId": "ca0a609b-8980-4ff6-fb25-da4dd6587489"
      },
      "execution_count": 52,
      "outputs": [
        {
          "output_type": "stream",
          "name": "stdout",
          "text": [
            "[[6.5675376e-05 9.9546933e-01 6.3696812e-04 2.6868378e-05 1.7205719e-05\n",
            "  8.9695750e-06 2.8734165e-05 6.1859452e-04 2.7430549e-03 3.8467415e-04]]\n"
          ]
        }
      ]
    },
    {
      "cell_type": "code",
      "source": [
        "yhat=np.argmax(p)\n",
        "yhat"
      ],
      "metadata": {
        "colab": {
          "base_uri": "https://localhost:8080/"
        },
        "id": "o3e1cMo9osN_",
        "outputId": "c1ca3626-4f85-40d5-a3ee-a31a2772245a"
      },
      "execution_count": 53,
      "outputs": [
        {
          "output_type": "execute_result",
          "data": {
            "text/plain": [
              "1"
            ]
          },
          "metadata": {},
          "execution_count": 53
        }
      ]
    },
    {
      "cell_type": "code",
      "source": [
        "print('predicted:', class_names[yhat])"
      ],
      "metadata": {
        "colab": {
          "base_uri": "https://localhost:8080/"
        },
        "id": "Rlpwz5kQpCDd",
        "outputId": "0fb80599-478f-42ea-f517-159950523455"
      },
      "execution_count": 54,
      "outputs": [
        {
          "output_type": "stream",
          "name": "stdout",
          "text": [
            "predicted: automobile\n"
          ]
        }
      ]
    },
    {
      "cell_type": "code",
      "source": [
        ""
      ],
      "metadata": {
        "id": "9hz7f9FJosQ3"
      },
      "execution_count": null,
      "outputs": []
    },
    {
      "cell_type": "code",
      "metadata": {
        "id": "6DnoWv3ph9Nt"
      },
      "source": [
        ""
      ],
      "execution_count": null,
      "outputs": []
    },
    {
      "cell_type": "code",
      "metadata": {
        "id": "YLPTff5Jh9Qt"
      },
      "source": [
        "z=[0.7 ,1.2]"
      ],
      "execution_count": 55,
      "outputs": []
    },
    {
      "cell_type": "code",
      "metadata": {
        "id": "d8__EO6iKp60"
      },
      "source": [
        "import numpy as np"
      ],
      "execution_count": 56,
      "outputs": []
    },
    {
      "cell_type": "code",
      "metadata": {
        "id": "Ym7J3TYVKp-D",
        "colab": {
          "base_uri": "https://localhost:8080/"
        },
        "outputId": "efd8d844-4d18-418d-ca00-a046fd9cb6e1"
      },
      "source": [
        "yh1=np.exp(z[0])/ (np.exp(z[0])+np.exp(z[1]))\n",
        "yh1"
      ],
      "execution_count": 57,
      "outputs": [
        {
          "output_type": "execute_result",
          "data": {
            "text/plain": [
              "0.37754066879814546"
            ]
          },
          "metadata": {},
          "execution_count": 57
        }
      ]
    },
    {
      "cell_type": "code",
      "metadata": {
        "id": "kdDO5VSPKFRn",
        "colab": {
          "base_uri": "https://localhost:8080/"
        },
        "outputId": "069eb5d5-c638-4b0d-a16e-3080cc598ef1"
      },
      "source": [
        "yh2=np.exp(z[1])/ (np.exp(z[0])+np.exp(z[1]))\n",
        "yh2"
      ],
      "execution_count": 58,
      "outputs": [
        {
          "output_type": "execute_result",
          "data": {
            "text/plain": [
              "0.6224593312018545"
            ]
          },
          "metadata": {},
          "execution_count": 58
        }
      ]
    },
    {
      "cell_type": "code",
      "metadata": {
        "id": "UphRircpKFUb"
      },
      "source": [
        ""
      ],
      "execution_count": null,
      "outputs": []
    },
    {
      "cell_type": "code",
      "metadata": {
        "id": "EqrhxUPVKFWz"
      },
      "source": [
        ""
      ],
      "execution_count": null,
      "outputs": []
    }
  ]
}